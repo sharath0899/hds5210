{
  "cells": [
    {
      "cell_type": "markdown",
      "metadata": {
        "id": "view-in-github",
        "colab_type": "text"
      },
      "source": [
        "<a href=\"https://colab.research.google.com/github/sharath0899/hds5210/blob/main/Copy_of_midterm_2024.ipynb\" target=\"_parent\"><img src=\"https://colab.research.google.com/assets/colab-badge.svg\" alt=\"Open In Colab\"/></a>"
      ]
    },
    {
      "cell_type": "markdown",
      "metadata": {
        "id": "VS-L4oax2vEE"
      },
      "source": [
        "# HDS5210-2024 Midterm\n",
        "\n",
        "In the midterm, you're going to use all the programming and data management skills you've developed so far to build a risk calculator that pretends to be integrated with a clinical registry.  You'll compute the PRIEST COVID-19 Clinical Severity Score for a series of patients and, based on their risk of an adverse outcome, query a REST web service to find a hospital to transfer them to. The end result of your work will be a list of instructions on where each patient should be discharged given their risk and various characteristics of the patient.\n",
        "\n",
        "Each step in the midterm will build up to form your complete solution.\n",
        "\n",
        "**Make sure you write good docstrings and doctests along the way!!**\n",
        "\n",
        "**The midterm is due at 11:59 PM CST on Monday, October 24th.**\n",
        "\n",
        "---"
      ]
    },
    {
      "cell_type": "markdown",
      "metadata": {
        "id": "CpE0XAS22vEE"
      },
      "source": [
        "## Step 1: Calculate PRIEST Clinical Severity Score\n",
        "\n",
        "This scoring algorithm can be found [here on the MDCalc website](https://www.mdcalc.com/priest-covid-19-clinical-severity-score#evidence).  \n",
        "\n",
        "1. You will need to write a function called **priest()** with the following input parameters.  \n",
        " * Sex (Gender assigned at birth)\n",
        " * Age in years\n",
        " * Respiratory rate in breaths per minute\n",
        " * Oxygen saturation as a percent between 0 and 1\n",
        " * Heart rate in beats per minute\n",
        " * Systolic BP in mmHg\n",
        " * Temperature in degrees C\n",
        " * Alertness as a string description\n",
        " * Inspired Oxygen as as string description\n",
        " * Performance Status as a string description\n",
        "2. The function will need to follow the algorithm provided on the MDCalc website to compute a risk percentage that should be returned as a numeric value between 0 and 1.\n",
        "3. Be sure to use docstring documentation and at least three built-in docstring test cases.\n",
        "4. Assume that the input values that are strings could be any combination of upper or lower case. For example: 'male', 'Male', 'MALE', 'MalE' should all be interpretted by your code as male.\n",
        "5. If any of the inputs are invalid (for example a sex value that is not recognizable as male or female) your code should return None.\n",
        "\n",
        "NOTES:\n",
        "1. In the final step there is a table that translates from **PRIEST Score** to **30-day probability of an outcome** but the last two probabilities are shown as ranges (59-88% and >99%).  Our code needs to output a single number, however. For our code, use the following rule:\n",
        " * If PRIEST score is between 17 and 25, the probability you return should be 0.59\n",
        " * If PRIEST score is greater than or equal to 26, the probability you return should be 0.99\n"
      ]
    },
    {
      "cell_type": "code",
      "execution_count": null,
      "metadata": {
        "id": "spCB7wzq2vEF"
      },
      "outputs": [],
      "source": [
        "import requests\n",
        "\n",
        "def priest(sex, age, respiratory_rate, oxygen_saturation, heart_rate, systolic_bp, temperature, alertness, inspired_oxygen, performance_status):\n",
        "    \"\"\"\n",
        "    Calculate the PRIEST COVID-19 Clinical Severity Score based on various parameters.\n",
        "\n",
        "    Args:\n",
        "        sex (str): 'male' or 'female'\n",
        "        age (int): Age in years\n",
        "        respiratory_rate (int): Respiratory rate in breaths per minute\n",
        "        oxygen_saturation (float): Oxygen saturation as a percentage between 0 and 1\n",
        "        heart_rate (int): Heart rate in beats per minute\n",
        "        systolic_bp (int): Systolic blood pressure in mmHg\n",
        "        temperature (float): Body temperature in degrees Celsius\n",
        "        alertness (str): 'alert' or 'confused/not alert'\n",
        "        inspired_oxygen (str): 'air' or 'supplemental oxygen'\n",
        "        performance_status (str): Performance status as described ('unrestricted', 'limited strenuous', etc.)\n",
        "\n",
        "    Returns:\n",
        "        float: Risk probability as a number between 0 and 1, or None for invalid inputs.\n",
        "\n",
        "    Examples:\n",
        "        >>> priest('male', 55, 22, 0.94, 100, 120, 37.0, 'alert', 'air', 'Unrestricted normal activity')\n",
        "        0.18\n",
        "        >>> priest('female', 70, 25, 0.92, 135, 80, 36.5, 'confused or not alert', 'supplemental oxygen', 'Bed/chair bound, no self-care')\n",
        "        0.59\n",
        "        >>> priest('male', 85, 18, 0.96, 85, 100, 38.5, 'alert', 'air', 'limited activity, can self-care')\n",
        "        0.29\n",
        "        >>> priest('MaLe', 60, 19, 0.40, 75, 120, 20, 'confused or not alert', 'AiR', 'limited Strenuous activity, can do light activity')\n",
        "        0.46\n",
        "    \"\"\"\n",
        "\n",
        "    # Normalize string inputs\n",
        "    sex = sex.lower()\n",
        "    alertness = alertness.lower()\n",
        "    inspired_oxygen = inspired_oxygen.lower()\n",
        "    performance_status = performance_status.lower()\n",
        "\n",
        "    # Validate sex\n",
        "    if sex not in ['male', 'female']:\n",
        "        return None\n",
        "\n",
        "    # Sex score\n",
        "    score = 1 if sex == 'male' else 0\n",
        "\n",
        "    # Age score\n",
        "    if age > 80:\n",
        "        score += 4\n",
        "    elif age >= 66 and age <= 80:\n",
        "        score += 3\n",
        "    elif age >= 50 and age <=65:\n",
        "        score += 2\n",
        "    elif age >= 16 and age <= 49:\n",
        "        score += 0\n",
        "    elif age < 16:\n",
        "        return None\n",
        "\n",
        "    # Respiratory rate score\n",
        "    if respiratory_rate > 24:\n",
        "        score += 3\n",
        "    elif respiratory_rate >= 21 and respiratory_rate <= 24:\n",
        "        score += 2\n",
        "    elif respiratory_rate >= 12 and respiratory_rate <= 20:\n",
        "        score += 0\n",
        "    elif respiratory_rate >= 9 and respiratory_rate <= 11:\n",
        "        score += 1\n",
        "    elif respiratory_rate < 9:\n",
        "        score += 3\n",
        "\n",
        "    # Oxygen saturation score (as a fraction of 1)\n",
        "    if oxygen_saturation > 0.95:\n",
        "        score += 0\n",
        "    elif oxygen_saturation >= 0.94 and oxygen_saturation <= 0.95:\n",
        "        score += 1\n",
        "    elif oxygen_saturation >= 0.92 and oxygen_saturation <= 0.93:\n",
        "        score += 2\n",
        "    elif oxygen_saturation < 0.92:\n",
        "        score += 3\n",
        "\n",
        "    # Heart rate score\n",
        "    if heart_rate > 130:\n",
        "        score += 3\n",
        "    elif heart_rate >= 111 and heart_rate <= 130:\n",
        "        score += 2\n",
        "    elif heart_rate >= 91 and heart_rate <= 110:\n",
        "        score += 1\n",
        "    elif heart_rate >= 51 and heart_rate <= 90:\n",
        "        score += 0\n",
        "    elif heart_rate >= 41 and heart_rate <=50:\n",
        "        score += 1\n",
        "    elif heart_rate < 41:\n",
        "        score += 3\n",
        "\n",
        "    # Systolic BP score\n",
        "    if systolic_bp > 219:\n",
        "        score += 3\n",
        "    elif systolic_bp >= 111 and systolic_bp <= 219:\n",
        "        score += 0\n",
        "    elif systolic_bp >= 101 and systolic_bp <= 110:\n",
        "        score += 1\n",
        "    elif systolic_bp >= 91 and systolic_bp <= 100:\n",
        "        score += 2\n",
        "    elif systolic_bp < 91:\n",
        "        score += 3\n",
        "\n",
        "    # Temperature score\n",
        "    if temperature > 39.0:\n",
        "        score += 2\n",
        "    elif temperature >= 38.1 and temperature <= 39.0:\n",
        "        score += 1\n",
        "    elif temperature >= 36.1 and temperature <= 38.0 :\n",
        "        score += 0\n",
        "    elif temperature >= 35.1 and temperature <= 36.0:\n",
        "        score += 1\n",
        "    elif temperature < 35.1:\n",
        "        score += 3\n",
        "\n",
        "    # Alertness score\n",
        "    if alertness == 'confused or not alert':\n",
        "        score += 3\n",
        "    elif alertness == 'alert':\n",
        "        score += 0\n",
        "    else:\n",
        "        return None\n",
        "\n",
        "    # Inspired oxygen score\n",
        "    if inspired_oxygen == 'supplemental oxygen':\n",
        "        score += 2\n",
        "    elif inspired_oxygen == 'air':\n",
        "        score += 0\n",
        "    else:\n",
        "        return None\n",
        "\n",
        "    # Performance status score\n",
        "    if performance_status == 'bed/chair bound, no self-care':\n",
        "        score += 4\n",
        "    elif performance_status == 'limited self-care':\n",
        "        score += 3\n",
        "    elif performance_status == 'limited activity, can self-care' :\n",
        "        score += 2\n",
        "    elif performance_status == 'limited strenuous activity, can do light activity':\n",
        "        score += 1\n",
        "    elif performance_status == 'unrestricted normal activity':\n",
        "        score += 0\n",
        "    else:\n",
        "        return None\n",
        "\n",
        "    # Translate score to risk probability\n",
        "    if score >= 26:\n",
        "        return 0.99\n",
        "    elif score >= 17 and score <= 25:\n",
        "        return 0.59\n",
        "    else:\n",
        "        risk_mapping = {\n",
        "            0: 0.01, 1: 0.01, 2: 0.02, 3: 0.02, 4: 0.03, 5: 0.09, 6: 0.15, 7: 0.18,\n",
        "            8: 0.22, 9: 0.26, 10: 0.29, 11: 0.34, 12: 0.38, 13: 0.46, 14: 0.47,\n",
        "            15: 0.49, 16: 0.55\n",
        "        }\n",
        "        return risk_mapping.get(score, None)\n"
      ]
    },
    {
      "cell_type": "code",
      "execution_count": null,
      "metadata": {
        "id": "FnC9-CmI2vEF",
        "outputId": "ac1e3fdd-fd03-4aaf-8295-f2cc06df687c",
        "colab": {
          "base_uri": "https://localhost:8080/"
        }
      },
      "outputs": [
        {
          "output_type": "stream",
          "name": "stderr",
          "text": [
            "\n",
            "PYDEV DEBUGGER WARNING:\n",
            "sys.settrace() should not be used when the debugger is being used.\n",
            "This may cause the debugger to stop working correctly.\n",
            "If this is needed, please check: \n",
            "http://pydev.blogspot.com/2007/06/why-cant-pydev-debugger-work-with.html\n",
            "to see how to restore the debug tracing back correctly.\n",
            "Call Location:\n",
            "  File \"/usr/lib/python3.10/doctest.py\", line 1501, in run\n",
            "    sys.settrace(save_trace)\n",
            "\n"
          ]
        },
        {
          "output_type": "stream",
          "name": "stdout",
          "text": [
            "Finding tests in NoName\n",
            "Trying:\n",
            "    priest('male', 55, 22, 0.94, 100, 120, 37.0, 'alert', 'air', 'Unrestricted normal activity')\n",
            "Expecting:\n",
            "    0.18\n",
            "ok\n",
            "Trying:\n",
            "    priest('female', 70, 25, 0.92, 135, 80, 36.5, 'confused or not alert', 'supplemental oxygen', 'Bed/chair bound, no self-care')\n",
            "Expecting:\n",
            "    0.59\n",
            "ok\n",
            "Trying:\n",
            "    priest('male', 85, 18, 0.96, 85, 100, 38.5, 'alert', 'air', 'limited activity, can self-care')\n",
            "Expecting:\n",
            "    0.29\n",
            "ok\n",
            "Trying:\n",
            "    priest('MaLe', 60, 19, 0.40, 75, 120, 20, 'confused or not alert', 'AiR', 'limited Strenuous activity, can do light activity')\n",
            "Expecting:\n",
            "    0.46\n",
            "ok\n"
          ]
        }
      ],
      "source": [
        "import doctest\n",
        "doctest.run_docstring_examples(priest, globals(),verbose=True)"
      ]
    },
    {
      "cell_type": "markdown",
      "metadata": {
        "id": "0-GGqDUq2vEF"
      },
      "source": [
        "## Part 2: Find a hospital\n",
        "\n",
        "The next thing we have to do is figure out where to send this particular patient.  The guidelines on where to send a patient are based on their age (pediatric, adult, geriatric), sex, and risk percentage.  Luckily, you don't have to implement these rules. I already have. All you have to do is use a REST web service that I've created for you.\n",
        "\n",
        "You'll want to use Python to make a call to my REST web service similar to the example URL below. The first part of the URL will be the same for everyone and every request that you make. What you will need to modify for each of your requests is the information after the question mark.\n",
        "\n",
        "```\n",
        "https://oumdj6oci2.execute-api.us-east-1.amazonaws.com/prd/?age=40&sex=male&risk_pct=0.1\n",
        "```\n",
        "\n",
        "The example above asks my web service where a 40-year old male with a risk of 10% should go.  What the web service will return back is a JSON string containing the information you need.  That JSON will look like this:\n",
        "\n",
        "```json\n",
        "{\n",
        "  \"age\": \"40\",\n",
        "  \"sex\": \"male\",\n",
        "  \"risk\": \"0.1\",\n",
        "  \"hospital\": \"Southwest Hospital and Medical Center\"\n",
        "}\n",
        "```\n",
        "\n",
        "My function is not smart enough to understand `'MALE'` is the same as `'male'`.  You have to send it exactly `'male'` or `'female'`\n",
        "\n",
        "1. Your job is to write a function called **find_hospital()** that takes age, sex, and risk as parameters.\n",
        "2. Your function should call this REST web service using the `requests` module\n",
        "3. Then your function will need to interpret the JSON it gets and return just the name of the hospital\n",
        "4. If anything fails, return None\n",
        "5. Include a good docstring with at least three test cases.\n"
      ]
    },
    {
      "cell_type": "code",
      "execution_count": null,
      "metadata": {
        "id": "qu8eA_RS2vEG"
      },
      "outputs": [],
      "source": [
        "import requests\n",
        "\n",
        "def find_hospital(age, sex, risk_pct):\n",
        "    \"\"\"\n",
        "    Finds a hospital for a patient based on their age, sex, and risk percentage.\n",
        "\n",
        "    This function calls a REST API to determine which hospital the patient should be sent to.\n",
        "\n",
        "    Args:\n",
        "        age (int): The patient's age in years.\n",
        "        sex (str): The patient's sex ('male' or 'female').\n",
        "        risk_pct (float): The patient's risk percentage as a number between 0 and 1.\n",
        "\n",
        "    Returns:\n",
        "        str: The name of the hospital, or None if the request fails or input is invalid.\n",
        "\n",
        "    Examples:\n",
        "        >>> find_hospital(40, 'male', 0.1)\n",
        "        'Southwest Hospital and Medical Center'\n",
        "        >>> find_hospital(70, 'female', 0.9)\n",
        "        'Wesley Woods Geriatric Hospital'\n",
        "        >>> find_hospital(30, 'MALE', 0.3)  # Case-insensitive input\n",
        "\n",
        "    \"\"\"\n",
        "\n",
        "    # Normalize the sex input (convert to lowercase)\n",
        "    # sex = sex.lower()\n",
        "\n",
        "    # Validate sex to make sure it's either 'male' or 'female'\n",
        "    if sex not in ['male', 'female']:\n",
        "        return None  # Return None if the sex is invalid\n",
        "\n",
        "    # Construct the API URL with the patient's data\n",
        "    url = f\"https://oumdj6oci2.execute-api.us-east-1.amazonaws.com/prd/?age={age}&sex={sex}&risk_pct={risk_pct}\"\n",
        "\n",
        "    try:\n",
        "        # Make a GET request to the API\n",
        "        response = requests.get(url)\n",
        "\n",
        "        # Check if the response is successful (status code 200)\n",
        "        if response.status_code != 200:\n",
        "            return None  # Return None if there is an error in the request\n",
        "\n",
        "        # Parse the JSON response from the API\n",
        "        data = response.json()\n",
        "\n",
        "        # Extract and return the hospital name from the JSON data\n",
        "        return data.get('hospital')\n",
        "\n",
        "    except Exception:\n",
        "        # Return None if there's an error (like a connection issue or invalid JSON)\n",
        "        return None\n",
        "\n"
      ]
    },
    {
      "cell_type": "code",
      "execution_count": null,
      "metadata": {
        "id": "IMqsccRS2vEG",
        "outputId": "0490ee65-c2ac-4c2e-f02e-f48aafade352",
        "colab": {
          "base_uri": "https://localhost:8080/"
        }
      },
      "outputs": [
        {
          "output_type": "stream",
          "name": "stdout",
          "text": [
            "Finding tests in NoName\n",
            "Trying:\n",
            "    find_hospital(40, 'male', 0.1)\n",
            "Expecting:\n",
            "    'Southwest Hospital and Medical Center'\n",
            "ok\n",
            "Trying:\n",
            "    find_hospital(70, 'female', 0.9)\n",
            "Expecting:\n",
            "    'Wesley Woods Geriatric Hospital'\n",
            "ok\n",
            "Trying:\n",
            "    find_hospital(30, 'MALE', 0.3)  # Case-insensitive input\n",
            "Expecting nothing\n",
            "ok\n"
          ]
        }
      ],
      "source": [
        "import doctest\n",
        "doctest.run_docstring_examples(find_hospital, globals(),verbose=True)"
      ]
    },
    {
      "cell_type": "markdown",
      "metadata": {
        "id": "Bl7PL4vP2vEG"
      },
      "source": [
        "## Part 3: Get the address for that hospital from a JSON file\n",
        "\n",
        "Great! Now we have code to tell us which hospital to send someone to... but we don't know where that hospital is. The next function we need to create is one that looks up the address of that hospital.  All of these hospitals are in Atlanta, Georgia.  We're going to use the list from this webpage to lookup the address for that hospital, based on its name.  https://www.officialusa.com/stateguides/health/hospitals/georgia.html\n",
        "\n",
        "Because we skipped the section about Beautiful Soup and working with HTML, I've converted this information into a JSON document for you.  It's available for you here.  Your code should retrieve this file using the `requests` module.\n",
        "\n",
        "`https://drive.google.com/uc?export=download&id=1fIFD-NkcdiMu941N4GjyMDWxiKsFJBw-`\n",
        "\n",
        "1. You need to create a function called **get_address()** that takes hospital name as a parameter and searches the data from this JSON file for the hospital you want to find.\n",
        "2. Your code will have to load the JSON and return the correct hospital based on name.\n",
        "3. If the hospital name isn't found, the function should return None.\n",
        "4. Be sure to use good docstring documentation and includes at least 3 test cases."
      ]
    },
    {
      "cell_type": "code",
      "execution_count": null,
      "metadata": {
        "id": "h9jSYsPP2vEG"
      },
      "outputs": [],
      "source": [
        "import requests\n",
        "\n",
        "def get_address(hospital_name):\n",
        "    \"\"\"\n",
        "    Looks up the address of a hospital based on its name from a JSON file.\n",
        "\n",
        "    Args:\n",
        "        hospital_name (str): The name of the hospital to search for.\n",
        "\n",
        "    Returns:\n",
        "        str: The address of the hospital, or None if not found.\n",
        "\n",
        "    Example:\n",
        "        >>> get_address('Grady Memorial Hospital')\n",
        "        '80 JESSE HILL, JR DRIVE SE'\n",
        "        >>> get_address('Piedmont Hospital')\n",
        "        '1968 PEACHTREE ROAD NW'\n",
        "        >>> get_address('Unknown Hospital')  # Non-existent hospital\n",
        "    \"\"\"\n",
        "\n",
        "    # URL of the JSON file with hospital data\n",
        "    url = \"https://drive.google.com/uc?export=download&id=1fIFD-NkcdiMu941N4GjyMDWxiKsFJBw-\"\n",
        "\n",
        "    try:\n",
        "        # Fetch the JSON file from the URL\n",
        "        response = requests.get(url)\n",
        "\n",
        "        # Check if the request was successful (status code 200)\n",
        "        if response.status_code != 200:\n",
        "            return None\n",
        "\n",
        "        # Parse the JSON data\n",
        "        hospitals_data = response.json()\n",
        "        req_hospital_name = hospitals_data.get(hospital_name.upper())\n",
        "        if req_hospital_name:\n",
        "            return req_hospital_name.get('ADDRESS')\n",
        "\n",
        "        return None\n",
        "\n",
        "        # Search for the hospital by name in the JSON data\n",
        "        #for hospital in hospitals_data:\n",
        "         #   if hospital.lower() == hospital_name.lower():  # Case-insensitive match\n",
        "          #      return hospital['ADDRESS']  # Return the address if the hospital is found\n",
        "\n",
        "        # If no match was found, return None\n",
        "        #return None\n",
        "\n",
        "    except Exception:\n",
        "        # In case of any error (network issue, invalid JSON, etc.), return None\n",
        "        return None\n"
      ]
    },
    {
      "cell_type": "code",
      "source": [
        "# Test case 1: Grady Memorial Hospital\n",
        "print(get_address('Grady Memorial Hospital'))\n",
        "# Output: '80 Jesse Hill Jr Drive SE, Atlanta, GA'\n",
        "\n",
        "# Test case 2: Piedmont Hospital\n",
        "print(get_address('Piedmont Hospital'))\n",
        "# Output: '1968 Peachtree Road NW, Atlanta, GA'\n",
        "\n",
        "# Test case 3: Non-existent hospital\n",
        "print(get_address('Unknown Hospital'))\n",
        "# Output: None\n"
      ],
      "metadata": {
        "id": "FAGYxsxicpYX",
        "outputId": "e0af3472-43e0-4cbf-ee79-748d0ce9a2ea",
        "colab": {
          "base_uri": "https://localhost:8080/"
        }
      },
      "execution_count": null,
      "outputs": [
        {
          "output_type": "stream",
          "name": "stdout",
          "text": [
            "80 JESSE HILL, JR DRIVE SE\n",
            "1968 PEACHTREE ROAD NW\n",
            "None\n"
          ]
        }
      ]
    },
    {
      "cell_type": "code",
      "source": [
        "import doctest\n",
        "doctest.run_docstring_examples(get_address, globals(),verbose=True)\n"
      ],
      "metadata": {
        "id": "kuvb1Y2Uc1hC",
        "outputId": "da8e3162-196d-4fbd-94a1-b159670dee1e",
        "colab": {
          "base_uri": "https://localhost:8080/"
        }
      },
      "execution_count": null,
      "outputs": [
        {
          "output_type": "stream",
          "name": "stdout",
          "text": [
            "Finding tests in NoName\n",
            "Trying:\n",
            "    get_address('Grady Memorial Hospital')\n",
            "Expecting:\n",
            "    '80 JESSE HILL, JR DRIVE SE'\n",
            "ok\n",
            "Trying:\n",
            "    get_address('Piedmont Hospital')\n",
            "Expecting:\n",
            "    '1968 PEACHTREE ROAD NW'\n",
            "ok\n",
            "Trying:\n",
            "    get_address('Unknown Hospital')  # Non-existent hospital\n",
            "Expecting nothing\n",
            "ok\n"
          ]
        }
      ]
    },
    {
      "cell_type": "markdown",
      "metadata": {
        "id": "WUmEJbs02vEG"
      },
      "source": [
        "## Part 4: Run the risk calculator on a population\n",
        "\n",
        "At the link below, there is a file called `people.psv`.  It is a pipe-delimited (`|`) file with columns that match the inputs for the PRIEST calculation above.  Your code should use the `requests` module to retrieve the file from this URL.\n",
        "\n",
        "`https://drive.google.com/uc?export=download&id=1fLxJN9YGUqmqExrilxSS8furwUER5HHh`\n",
        "\n",
        "\n",
        "In addition, the file has a patient identifier in the first column.\n",
        "\n",
        "1. Write a function called **process_people()** that takes the file location above as its only parameter. Your Python program should use your code above to process all of these rows, determine the hospital and address, and return a list whose items are a dictionary like this: `{ patient_number: [sex, age, breath, o2sat, heart, systolic, temp, alertness, inspired, status, hospital, address]}`.  Look at the file in Part 5 for what the output looks like.\n",
        "2. Be sure to use good docstrings, but you don't need any tests in your doc strings.  I've provided those for you withe file in Part 5.\n",
        "\n",
        "\n",
        "**NOTE** that when running your code for all the 100 records in the `people.psv` file, it may take a few minutes to complete.  You're making multiple calls to the internet for each record, so that can take a little while.\n"
      ]
    },
    {
      "cell_type": "code",
      "execution_count": null,
      "metadata": {
        "id": "EBrXmu9p2vEG"
      },
      "outputs": [],
      "source": [
        "import requests\n",
        "import csv\n",
        "import json\n",
        "\n",
        "def process_people(file_url):\n",
        "    \"\"\"\n",
        "    Processes a population from a pipe-delimited file (PSV), calculates the PRIEST risk,\n",
        "    determines the hospital for each patient, and retrieves the hospital's address.\n",
        "\n",
        "    Args:\n",
        "        file_url (str): The URL of the pipe-delimited file containing patient data.\n",
        "\n",
        "    Returns:\n",
        "        list: A list of dictionaries, where each dictionary contains patient data in the format:\n",
        "              { patient_number: [sex, age, breath, o2sat, heart, systolic, temp, alertness, inspired, status, risk, hospital, address] }\n",
        "\n",
        "    Example:\n",
        "        >>> process_people(\"https://drive.google.com/uc?export=download&id=1fLxJN9YGUqmqExrilxSS8furwUER5HHh\")\n",
        "\n",
        "    \"\"\"\n",
        "\n",
        "    # Download the people.psv file from the given URL\n",
        "    response = requests.get(file_url)\n",
        "    if response.status_code != 200:\n",
        "        return None  # If the download fails, return None\n",
        "\n",
        "    # Decode the file content and split it into lines\n",
        "    file_content = response.content.decode('utf-8')\n",
        "    lines = file_content.splitlines()\n",
        "\n",
        "    # Initialize the result list\n",
        "    result = []\n",
        "\n",
        "    # Use csv.reader to read the pipe-delimited file\n",
        "    reader = csv.reader(lines, delimiter='|')\n",
        "\n",
        "    # Skip the header row\n",
        "    next(reader)\n",
        "\n",
        "    for row in reader:\n",
        "        # Extract the patient data from the row\n",
        "        #print(row)\n",
        "        patient_id = row[0]\n",
        "        sex = row[1]\n",
        "        age = int(row[2])\n",
        "        breath = int(row[3])\n",
        "        o2sat = float(row[4])\n",
        "        heart = int(row[5])\n",
        "        systolic = int(row[6])\n",
        "        temp = float(row[7])\n",
        "        alertness = row[8]\n",
        "        inspired = row[9]\n",
        "        status = row[10]\n",
        "\n",
        "        sex = sex.lower()\n",
        "        alertness = alertness.lower()\n",
        "        inspired = inspired.lower()\n",
        "        status = status.lower()\n",
        "\n",
        "        # Step 1: Calculate the PRIEST risk score\n",
        "        risk = priest(sex, age, breath, o2sat, heart, systolic, temp, alertness, inspired, status)\n",
        "        if risk is None:\n",
        "            continue  # If the risk couldn't be calculated, skip this patient\n",
        "        #print(row)\n",
        "        # Step 2: Determine the hospital based on the risk, age, and sex\n",
        "        hospital = find_hospital(age, sex, risk)\n",
        "        if hospital is None:\n",
        "            continue  # If the hospital couldn't be found, skip this patient\n",
        "        #print(row)\n",
        "        # Step 3: Get the hospital address\n",
        "        address = get_address(hospital)\n",
        "        if address is None:\n",
        "            continue  # If the address couldn't be found, skip this patient\n",
        "        #print(row)\n",
        "        # Step 4: Append the result for this patient\n",
        "        result.append({patient_id : [sex, age, breath, o2sat, heart, systolic, temp, alertness, inspired, status, risk, hospital, address]})\n",
        "\n",
        "\n",
        "    #return json.dumps(result)\n",
        "    return result\n"
      ]
    },
    {
      "cell_type": "code",
      "source": [
        "import doctest\n",
        "doctest.run_docstring_examples(process_people, globals(),verbose=True)\n"
      ],
      "metadata": {
        "id": "UWJUZtkmeIgr",
        "outputId": "c4fd3b06-3e38-4227-fadb-b28be42c15fb",
        "colab": {
          "base_uri": "https://localhost:8080/"
        }
      },
      "execution_count": null,
      "outputs": [
        {
          "output_type": "stream",
          "name": "stdout",
          "text": [
            "Finding tests in NoName\n",
            "Trying:\n",
            "    process_people(\"https://drive.google.com/uc?export=download&id=1fLxJN9YGUqmqExrilxSS8furwUER5HHh\")\n",
            "Expecting nothing\n",
            "**********************************************************************\n",
            "File \"__main__\", line 18, in NoName\n",
            "Failed example:\n",
            "    process_people(\"https://drive.google.com/uc?export=download&id=1fLxJN9YGUqmqExrilxSS8furwUER5HHh\")\n",
            "Expected nothing\n",
            "Got:\n",
            "    [{'E9559': ['female', 40, 24, 0.96, 105, 115, 34.9, 'alert', 'air', 'unrestricted normal activity', 0.15, 'Select Specialty Hospital - Northeast Atlanta', '1821 CLIFTON ROAD NE']}, {'E9385': ['female', 51, 19, 0.99, 90, 91, 38.1, 'alert', 'supplemental oxygen', 'unrestricted normal activity', 0.18, 'Select Specialty Hospital - Northeast Atlanta', '1821 CLIFTON ROAD NE']}, {'E3067': ['female', 40, 29, 0.96, 105, 95, 38.1, 'alert', 'air', 'unrestricted normal activity', 0.18, 'Select Specialty Hospital - Northeast Atlanta', '1821 CLIFTON ROAD NE']}, {'E9422': ['female', 66, 19, 0.96, 135, 115, 38.1, 'alert', 'air', 'bed/chair bound, no self-care', 0.34, 'Wesley Woods Geriatric Hospital', '1821 CLIFTON ROAD, NE']}, {'E8661': ['male', 18, 22, 0.95, 105, 115, 36.3, 'confused or not alert', 'air', 'unrestricted normal activity', 0.22, 'Southwest Hospital and Medical Center', '501 FAIRBURN ROAD SW']}, {'E6235': ['male', 16, 23, 0.96, 135, 115, 39.2, 'alert', 'supplemental oxygen', 'unrestricted normal activity', 0.29, 'Childrens Healthcare of Atlanta at Scottish Rite', '1001 JOHNSON FERRY RD']}, {'E4451': ['male', 40, 8, 0.96, 135, 115, 38.1, 'alert', 'air', 'unrestricted normal activity', 0.22, 'Southwest Hospital and Medical Center', '501 FAIRBURN ROAD SW']}, {'E8433': ['female', 40, 23, 0.99, 89, 91, 38.1, 'alert', 'air', 'limited self-care', 0.22, 'Select Specialty Hospital - Northeast Atlanta', '1821 CLIFTON ROAD NE']}, {'E7593': ['female', 80, 23, 0.96, 105, 115, 38.1, 'alert', 'supplemental oxygen', 'limited activity, can self-care', 0.34, 'Wesley Woods Geriatric Hospital', '1821 CLIFTON ROAD, NE']}, {'E3296': ['male', 51, 23, 0.95, 105, 115, 38.1, 'alert', 'air', 'unrestricted normal activity', 0.22, 'Southwest Hospital and Medical Center', '501 FAIRBURN ROAD SW']}, {'E4157': ['female', 40, 23, 0.96, 41, 115, 35.4, 'alert', 'air', 'unrestricted normal activity', 0.03, 'Select Specialty Hospital - Northeast Atlanta', '1821 CLIFTON ROAD NE']}, {'E7702': ['female', 40, 22, 0.96, 105, 115, 38.1, 'alert', 'supplemental oxygen', 'unrestricted normal activity', 0.15, 'Select Specialty Hospital - Northeast Atlanta', '1821 CLIFTON ROAD NE']}, {'E8158': ['male', 40, 20, 0.99, 135, 115, 39.2, 'alert', 'air', 'unrestricted normal activity', 0.15, 'Southwest Hospital and Medical Center', '501 FAIRBURN ROAD SW']}, {'E4795': ['female', 80, 11, 0.93, 105, 95, 40.8, 'alert', 'air', 'limited activity, can self-care', 0.46, 'Wesley Woods Geriatric Hospital', '1821 CLIFTON ROAD, NE']}, {'E8800': ['male', 80, 22, 0.96, 105, 115, 39.2, 'confused or not alert', 'air', 'limited activity, can self-care', 0.47, 'Wesley Woods Geriatric Hospital', '1821 CLIFTON ROAD, NE']}, {'E4855': ['female', 51, 23, 0.94, 135, 115, 38.1, 'alert', 'air', 'limited strenuous activity, can do light activity', 0.29, 'Select Specialty Hospital - Northeast Atlanta', '1821 CLIFTON ROAD NE']}, {'E9691': ['male', 16, 10, 0.96, 105, 115, 38.1, 'alert', 'air', 'unrestricted normal activity', 0.03, 'Childrens Healthcare of Atlanta at Scottish Rite', '1001 JOHNSON FERRY RD']}, {'E4535': ['female', 19, 11, 0.99, 105, 115, 35.4, 'alert', 'air', 'unrestricted normal activity', 0.02, 'Select Specialty Hospital - Northeast Atlanta', '1821 CLIFTON ROAD NE']}, {'E2360': ['male', 40, 20, 0.96, 51, 95, 34.9, 'alert', 'supplemental oxygen', 'unrestricted normal activity', 0.22, 'Southwest Hospital and Medical Center', '501 FAIRBURN ROAD SW']}, {'E3447': ['male', 80, 22, 0.96, 41, 115, 38.1, 'alert', 'air', 'limited activity, can self-care', 0.29, 'Wesley Woods Geriatric Hospital', '1821 CLIFTON ROAD, NE']}, {'E8208': ['female', 18, 23, 0.96, 135, 115, 38.1, 'alert', 'air', 'unrestricted normal activity', 0.15, 'Select Specialty Hospital - Northeast Atlanta', '1821 CLIFTON ROAD NE']}, {'E4428': ['female', 40, 23, 0.96, 38, 115, 36.3, 'alert', 'air', 'unrestricted normal activity', 0.09, 'Select Specialty Hospital - Northeast Atlanta', '1821 CLIFTON ROAD NE']}, {'E2766': ['male', 18, 23, 0.96, 105, 115, 34.9, 'alert', 'air', 'unrestricted normal activity', 0.18, 'Southwest Hospital and Medical Center', '501 FAIRBURN ROAD SW']}, {'E3888': ['female', 51, 19, 0.96, 135, 115, 34.9, 'alert', 'air', 'unrestricted normal activity', 0.22, 'Select Specialty Hospital - Northeast Atlanta', '1821 CLIFTON ROAD NE']}, {'E7110': ['female', 85, 24, 0.99, 105, 101, 40.8, 'confused or not alert', 'air', 'unrestricted normal activity', 0.46, 'Wesley Woods Geriatric Hospital', '1821 CLIFTON ROAD, NE']}, {'E2668': ['female', 18, 22, 0.96, 105, 101, 38.1, 'alert', 'air', 'unrestricted normal activity', 0.09, 'Select Specialty Hospital - Northeast Atlanta', '1821 CLIFTON ROAD NE']}, {'E8482': ['male', 40, 22, 0.96, 105, 230, 36.3, 'alert', 'air', 'limited self-care', 0.29, 'Southwest Hospital and Medical Center', '501 FAIRBURN ROAD SW']}, {'E9619': ['female', 40, 11, 0.98, 41, 115, 38.1, 'alert', 'air', 'unrestricted normal activity', 0.02, 'Select Specialty Hospital - Northeast Atlanta', '1821 CLIFTON ROAD NE']}, {'E1700': ['male', 40, 23, 0.96, 105, 115, 38.1, 'confused or not alert', 'air', 'unrestricted normal activity', 0.22, 'Southwest Hospital and Medical Center', '501 FAIRBURN ROAD SW']}, {'E8585': ['male', 19, 8, 0.96, 105, 115, 36.3, 'alert', 'air', 'bed/chair bound, no self-care', 0.26, 'Southwest Hospital and Medical Center', '501 FAIRBURN ROAD SW']}, {'E8633': ['female', 40, 22, 0.96, 38, 91, 35.4, 'alert', 'air', 'unrestricted normal activity', 0.22, 'Select Specialty Hospital - Northeast Atlanta', '1821 CLIFTON ROAD NE']}, {'E2117': ['female', 16, 22, 0.96, 135, 115, 39.2, 'confused or not alert', 'supplemental oxygen', 'bed/chair bound, no self-care', 0.55, 'Hughes Spalding Childrens Hospital', '1711 TULLIE CIRCLE NE']}, {'E2322': ['female', 18, 22, 0.96, 105, 115, 38.1, 'alert', 'supplemental oxygen', 'unrestricted normal activity', 0.15, 'Select Specialty Hospital - Northeast Atlanta', '1821 CLIFTON ROAD NE']}, {'E6912': ['female', 51, 23, 0.96, 105, 95, 34.9, 'alert', 'air', 'unrestricted normal activity', 0.29, 'Select Specialty Hospital - Northeast Atlanta', '1821 CLIFTON ROAD NE']}, {'E5702': ['male', 80, 23, 0.96, 135, 115, 38.1, 'alert', 'air', 'unrestricted normal activity', 0.29, 'Wesley Woods Geriatric Hospital', '1821 CLIFTON ROAD, NE']}, {'E5513': ['female', 18, 12, 0.96, 105, 115, 38.1, 'alert', 'air', 'unrestricted normal activity', 0.02, 'Select Specialty Hospital - Northeast Atlanta', '1821 CLIFTON ROAD NE']}, {'E1861': ['female', 18, 22, 0.96, 105, 230, 38.1, 'alert', 'air', 'limited strenuous activity, can do light activity', 0.22, 'Select Specialty Hospital - Northeast Atlanta', '1821 CLIFTON ROAD NE']}, {'E4809': ['female', 40, 22, 0.96, 41, 230, 38.1, 'alert', 'air', 'unrestricted normal activity', 0.18, 'Select Specialty Hospital - Northeast Atlanta', '1821 CLIFTON ROAD NE']}, {'E1365': ['male', 22, 22, 0.96, 115, 101, 35.4, 'alert', 'air', 'bed/chair bound, no self-care', 0.34, 'Emory Dunwoody Medical Center', '4500 NORTH SHALLOWFORD ROAD']}, {'E5984': ['male', 40, 12, 0.93, 105, 91, 35.1, 'alert', 'air', 'limited activity, can self-care', 0.26, 'Southwest Hospital and Medical Center', '501 FAIRBURN ROAD SW']}, {'E7013': ['female', 66, 23, 0.96, 135, 89, 40.8, 'alert', 'supplemental oxygen', 'unrestricted normal activity', 0.49, 'Wesley Woods Geriatric Hospital', '1821 CLIFTON ROAD, NE']}, {'E2331': ['female', 18, 23, 0.98, 105, 115, 38.1, 'alert', 'air', 'limited self-care', 0.18, 'Select Specialty Hospital - Northeast Atlanta', '1821 CLIFTON ROAD NE']}, {'E9938': ['male', 18, 12, 0.96, 105, 89, 35.1, 'alert', 'air', 'unrestricted normal activity', 0.15, 'Southwest Hospital and Medical Center', '501 FAIRBURN ROAD SW']}, {'E5121': ['female', 18, 23, 0.96, 41, 95, 38.1, 'alert', 'supplemental oxygen', 'limited activity, can self-care', 0.29, 'Select Specialty Hospital - Northeast Atlanta', '1821 CLIFTON ROAD NE']}, {'E9280': ['male', 65, 10, 0.96, 135, 91, 38.1, 'alert', 'air', 'unrestricted normal activity', 0.29, 'Wesley Woods Geriatric Hospital', '1821 CLIFTON ROAD, NE']}, {'E4762': ['female', 40, 12, 0.98, 105, 95, 38.1, 'alert', 'air', 'unrestricted normal activity', 0.03, 'Select Specialty Hospital - Northeast Atlanta', '1821 CLIFTON ROAD NE']}, {'E6885': ['male', 18, 23, 0.93, 89, 115, 35.1, 'confused or not alert', 'air', 'limited activity, can self-care', 0.34, 'Emory Dunwoody Medical Center', '4500 NORTH SHALLOWFORD ROAD']}, {'E1695': ['female', 40, 22, 0.96, 41, 115, 38.1, 'alert', 'air', 'unrestricted normal activity', 0.03, 'Select Specialty Hospital - Northeast Atlanta', '1821 CLIFTON ROAD NE']}, {'E9658': ['female', 18, 10, 0.96, 90, 230, 38.1, 'alert', 'air', 'limited self-care', 0.22, 'Select Specialty Hospital - Northeast Atlanta', '1821 CLIFTON ROAD NE']}, {'E1961': ['female', 65, 23, 0.96, 105, 115, 40.8, 'alert', 'air', 'limited activity, can self-care', 0.26, 'Wesley Woods Geriatric Hospital', '1821 CLIFTON ROAD, NE']}, {'E9154': ['female', 66, 8, 0.94, 105, 89, 35.4, 'alert', 'air', 'bed/chair bound, no self-care', 0.55, 'Wesley Woods Geriatric Hospital', '1821 CLIFTON ROAD, NE']}, {'E9417': ['female', 40, 23, 0.96, 105, 95, 38.1, 'alert', 'air', 'unrestricted normal activity', 0.15, 'Select Specialty Hospital - Northeast Atlanta', '1821 CLIFTON ROAD NE']}, {'E9979': ['male', 18, 8, 0.96, 105, 115, 38.1, 'alert', 'air', 'limited strenuous activity, can do light activity', 0.18, 'Southwest Hospital and Medical Center', '501 FAIRBURN ROAD SW']}, {'E9316': ['male', 18, 23, 0.96, 135, 115, 38.1, 'alert', 'air', 'unrestricted normal activity', 0.18, 'Southwest Hospital and Medical Center', '501 FAIRBURN ROAD SW']}, {'E8146': ['male', 18, 12, 0.96, 115, 115, 38.1, 'alert', 'air', 'unrestricted normal activity', 0.03, 'Southwest Hospital and Medical Center', '501 FAIRBURN ROAD SW']}, {'E3093': ['female', 40, 29, 0.96, 105, 95, 38.1, 'alert', 'air', 'unrestricted normal activity', 0.18, 'Select Specialty Hospital - Northeast Atlanta', '1821 CLIFTON ROAD NE']}, {'E8829': ['male', 65, 12, 0.96, 51, 230, 38.1, 'alert', 'air', 'unrestricted normal activity', 0.18, 'Wesley Woods Geriatric Hospital', '1821 CLIFTON ROAD, NE']}, {'E1453': ['male', 18, 24, 0.99, 105, 115, 38.1, 'alert', 'air', 'unrestricted normal activity', 0.09, 'Southwest Hospital and Medical Center', '501 FAIRBURN ROAD SW']}, {'E5777': ['female', 66, 23, 0.96, 115, 89, 38.1, 'alert', 'air', 'limited strenuous activity, can do light activity', 0.38, 'Wesley Woods Geriatric Hospital', '1821 CLIFTON ROAD, NE']}, {'E4564': ['female', 18, 24, 0.96, 41, 115, 35.1, 'confused or not alert', 'air', 'unrestricted normal activity', 0.18, 'Select Specialty Hospital - Northeast Atlanta', '1821 CLIFTON ROAD NE']}, {'E1904': ['female', 40, 22, 0.93, 38, 95, 38.1, 'confused or not alert', 'air', 'unrestricted normal activity', 0.46, 'Emory Dunwoody Medical Center', '4500 NORTH SHALLOWFORD ROAD']}, {'E8746': ['female', 40, 12, 0.93, 105, 115, 38.1, 'alert', 'air', 'unrestricted normal activity', 0.03, 'Select Specialty Hospital - Northeast Atlanta', '1821 CLIFTON ROAD NE']}, {'E9165': ['female', 19, 22, 0.98, 50, 95, 38.1, 'alert', 'air', 'limited activity, can self-care', 0.22, 'Select Specialty Hospital - Northeast Atlanta', '1821 CLIFTON ROAD NE']}, {'E9305': ['female', 40, 8, 0.89, 105, 101, 38.1, 'alert', 'supplemental oxygen', 'unrestricted normal activity', 0.34, 'Emory Dunwoody Medical Center', '4500 NORTH SHALLOWFORD ROAD']}, {'E3217': ['female', 40, 10, 0.95, 105, 95, 38.1, 'alert', 'air', 'unrestricted normal activity', 0.15, 'Select Specialty Hospital - Northeast Atlanta', '1821 CLIFTON ROAD NE']}, {'E3127': ['female', 40, 8, 0.96, 38, 115, 36.3, 'alert', 'air', 'limited strenuous activity, can do light activity', 0.18, 'Select Specialty Hospital - Northeast Atlanta', '1821 CLIFTON ROAD NE']}, {'E7501': ['female', 18, 23, 0.96, 135, 115, 38.1, 'alert', 'air', 'unrestricted normal activity', 0.15, 'Select Specialty Hospital - Northeast Atlanta', '1821 CLIFTON ROAD NE']}, {'E4997': ['female', 40, 23, 0.94, 105, 115, 36.3, 'alert', 'air', 'unrestricted normal activity', 0.03, 'Select Specialty Hospital - Northeast Atlanta', '1821 CLIFTON ROAD NE']}, {'E6181': ['female', 19, 23, 0.96, 89, 115, 38.1, 'alert', 'air', 'unrestricted normal activity', 0.02, 'Select Specialty Hospital - Northeast Atlanta', '1821 CLIFTON ROAD NE']}, {'E1073': ['female', 18, 24, 0.95, 50, 115, 38.1, 'confused or not alert', 'air', 'limited self-care', 0.34, 'Emory Dunwoody Medical Center', '4500 NORTH SHALLOWFORD ROAD']}, {'E9608': ['female', 80, 12, 0.96, 50, 89, 38.1, 'alert', 'air', 'unrestricted normal activity', 0.22, 'Wesley Woods Geriatric Hospital', '1821 CLIFTON ROAD, NE']}, {'E7663': ['female', 18, 11, 0.96, 105, 115, 38.1, 'alert', 'air', 'limited self-care', 0.15, 'Select Specialty Hospital - Northeast Atlanta', '1821 CLIFTON ROAD NE']}, {'E7648': ['female', 66, 12, 0.98, 41, 115, 34.9, 'alert', 'air', 'unrestricted normal activity', 0.18, 'Wesley Woods Geriatric Hospital', '1821 CLIFTON ROAD, NE']}, {'E1883': ['male', 40, 10, 0.98, 105, 115, 38.1, 'alert', 'air', 'unrestricted normal activity', 0.03, 'Southwest Hospital and Medical Center', '501 FAIRBURN ROAD SW']}, {'E2001': ['female', 18, 12, 0.99, 51, 115, 38.1, 'confused or not alert', 'air', 'unrestricted normal activity', 0.03, 'Select Specialty Hospital - Northeast Atlanta', '1821 CLIFTON ROAD NE']}, {'E2418': ['male', 18, 20, 0.94, 105, 115, 35.4, 'alert', 'air', 'unrestricted normal activity', 0.03, 'Southwest Hospital and Medical Center', '501 FAIRBURN ROAD SW']}, {'E3739': ['male', 85, 10, 0.96, 105, 115, 38.1, 'confused or not alert', 'supplemental oxygen', 'unrestricted normal activity', 0.46, 'Wesley Woods Geriatric Hospital', '1821 CLIFTON ROAD, NE']}, {'E8351': ['female', 40, 23, 0.96, 90, 101, 38.1, 'alert', 'air', 'unrestricted normal activity', 0.03, 'Select Specialty Hospital - Northeast Atlanta', '1821 CLIFTON ROAD NE']}, {'E2882': ['male', 51, 24, 0.98, 105, 91, 38.1, 'alert', 'air', 'unrestricted normal activity', 0.26, 'Southwest Hospital and Medical Center', '501 FAIRBURN ROAD SW']}, {'E1902': ['female', 85, 22, 0.96, 105, 115, 38.1, 'alert', 'supplemental oxygen', 'unrestricted normal activity', 0.29, 'Wesley Woods Geriatric Hospital', '1821 CLIFTON ROAD, NE']}, {'E2155': ['male', 18, 22, 0.94, 105, 115, 38.1, 'alert', 'air', 'limited self-care', 0.26, 'Southwest Hospital and Medical Center', '501 FAIRBURN ROAD SW']}, {'E4345': ['female', 40, 19, 0.89, 41, 115, 34.9, 'alert', 'air', 'unrestricted normal activity', 0.18, 'Select Specialty Hospital - Northeast Atlanta', '1821 CLIFTON ROAD NE']}, {'E4194': ['female', 40, 12, 0.95, 105, 91, 38.1, 'alert', 'air', 'limited self-care', 0.22, 'Select Specialty Hospital - Northeast Atlanta', '1821 CLIFTON ROAD NE']}, {'E5211': ['male', 65, 22, 0.96, 41, 115, 38.1, 'alert', 'air', 'unrestricted normal activity', 0.18, 'Wesley Woods Geriatric Hospital', '1821 CLIFTON ROAD, NE']}, {'E5488': ['female', 40, 12, 0.94, 105, 101, 38.1, 'alert', 'air', 'unrestricted normal activity', 0.03, 'Select Specialty Hospital - Northeast Atlanta', '1821 CLIFTON ROAD NE']}, {'E8560': ['female', 40, 23, 0.96, 41, 115, 35.1, 'confused or not alert', 'air', 'unrestricted normal activity', 0.18, 'Select Specialty Hospital - Northeast Atlanta', '1821 CLIFTON ROAD NE']}, {'E2995': ['female', 18, 20, 0.99, 105, 95, 35.1, 'alert', 'air', 'unrestricted normal activity', 0.03, 'Select Specialty Hospital - Northeast Atlanta', '1821 CLIFTON ROAD NE']}, {'E3422': ['female', 40, 8, 0.96, 105, 115, 35.4, 'alert', 'air', 'unrestricted normal activity', 0.09, 'Select Specialty Hospital - Northeast Atlanta', '1821 CLIFTON ROAD NE']}, {'E7707': ['female', 18, 20, 0.96, 38, 115, 36.3, 'alert', 'air', 'limited strenuous activity, can do light activity', 0.03, 'Select Specialty Hospital - Northeast Atlanta', '1821 CLIFTON ROAD NE']}, {'E3119': ['female', 18, 20, 0.99, 135, 89, 35.1, 'alert', 'supplemental oxygen', 'unrestricted normal activity', 0.26, 'Select Specialty Hospital - Northeast Atlanta', '1821 CLIFTON ROAD NE']}, {'E1419': ['male', 65, 23, 0.99, 105, 91, 38.1, 'alert', 'air', 'unrestricted normal activity', 0.26, 'Wesley Woods Geriatric Hospital', '1821 CLIFTON ROAD, NE']}, {'E7748': ['male', 40, 23, 0.93, 105, 115, 38.1, 'alert', 'supplemental oxygen', 'unrestricted normal activity', 0.26, 'Southwest Hospital and Medical Center', '501 FAIRBURN ROAD SW']}, {'E7251': ['female', 40, 12, 0.96, 105, 91, 38.1, 'alert', 'air', 'unrestricted normal activity', 0.03, 'Select Specialty Hospital - Northeast Atlanta', '1821 CLIFTON ROAD NE']}, {'E1235': ['female', 40, 29, 0.96, 41, 115, 38.1, 'alert', 'air', 'bed/chair bound, no self-care', 0.26, 'Select Specialty Hospital - Northeast Atlanta', '1821 CLIFTON ROAD NE']}, {'E5361': ['female', 18, 22, 0.93, 90, 101, 38.1, 'confused or not alert', 'air', 'unrestricted normal activity', 0.26, 'Select Specialty Hospital - Northeast Atlanta', '1821 CLIFTON ROAD NE']}, {'E7130': ['female', 18, 22, 0.96, 50, 115, 38.1, 'alert', 'air', 'limited strenuous activity, can do light activity', 0.09, 'Select Specialty Hospital - Northeast Atlanta', '1821 CLIFTON ROAD NE']}, {'E5665': ['female', 85, 23, 0.96, 115, 115, 38.1, 'alert', 'air', 'unrestricted normal activity', 0.26, 'Wesley Woods Geriatric Hospital', '1821 CLIFTON ROAD, NE']}, {'E9957': ['female', 40, 22, 0.98, 89, 230, 38.1, 'alert', 'air', 'unrestricted normal activity', 0.15, 'Select Specialty Hospital - Northeast Atlanta', '1821 CLIFTON ROAD NE']}, {'E10000': ['female', 18, 23, 0.96, 105, 101, 38.1, 'alert', 'air', 'limited activity, can self-care', 0.18, 'Select Specialty Hospital - Northeast Atlanta', '1821 CLIFTON ROAD NE']}]\n"
          ]
        }
      ]
    },
    {
      "cell_type": "code",
      "source": [],
      "metadata": {
        "id": "CWCvpIPwjyhl"
      },
      "execution_count": null,
      "outputs": []
    },
    {
      "cell_type": "markdown",
      "metadata": {
        "id": "m8i8sdW42vEG"
      },
      "source": [
        "## Part 5: Checking your final results\n",
        "\n",
        "The final step is to check your results.  You should be able to compare your results to the output in `people_results.json` at the link below.  Write some code to check your results.  This does not need to be a function.\n",
        "\n",
        "`https://drive.google.com/uc?export=download&id=1gx1SSC20mO5XL6uYD0mdcM_cL91fcIW5`\n"
      ]
    },
    {
      "cell_type": "code",
      "execution_count": null,
      "metadata": {
        "id": "7MyMmje12vEG",
        "outputId": "9682a04c-9fd9-4124-bfdb-055ba40a7d93",
        "colab": {
          "base_uri": "https://localhost:8080/"
        }
      },
      "outputs": [
        {
          "output_type": "stream",
          "name": "stdout",
          "text": [
            "Both results have the same number of records: 99\n",
            "99 patients matched\n"
          ]
        }
      ],
      "source": [
        "\"\"\"\n",
        "import requests\n",
        "import json\n",
        "\n",
        "# Step 1: Download the people_results.json file\n",
        "results_url = \"https://drive.google.com/uc?export=download&id=1gx1SSC20mO5XL6uYD0mdcM_cL91fcIW5\"\n",
        "response = requests.get(results_url)\n",
        "if response.status_code == 200:\n",
        "    # Load the expected results from the downloaded JSON\n",
        "    expected_results = response.json()\n",
        "else:\n",
        "    print(\"Failed to download people_results.json.\")\n",
        "    expected_results = None\n",
        "\n",
        "# Step 2: Run the process_people() function to get your results\n",
        "people_url = \"https://drive.google.com/uc?export=download&id=1fLxJN9YGUqmqExrilxSS8furwUER5HHh\"\n",
        "my_results = process_people(people_url)\n",
        "\n",
        "# Step 3: Compare the results\n",
        "if expected_results is not None:\n",
        "    # Check if the lengths of the results match\n",
        "    if len(my_results) == len(expected_results):\n",
        "        print(f\"Both results have the same number of records: {len(my_results)}\")\n",
        "\n",
        "        # Compare each patient's record\n",
        "        for i, (my_record, expected_record) in enumerate(zip(my_results, expected_results), start=1):\n",
        "            if my_record != expected_record:\n",
        "                print(f\"Difference found in patient {i}:\")\n",
        "                print(\"Your result: \", my_record)\n",
        "                print(\"Expected result: \", expected_record)\n",
        "            else:\n",
        "                print(f\"Patient {i} matches.\")\n",
        "    else:\n",
        "        print(f\"Results have different lengths: {len(my_results)} vs {len(expected_results)}\")\n",
        "else:\n",
        "    print(\"No expected results to compare against.\")\n",
        "\n",
        "\"\"\"\n",
        "\n",
        "import requests\n",
        "import json\n",
        "\n",
        "# Step 1: Download the people_results.json file\n",
        "results_url = \"https://drive.google.com/uc?export=download&id=1gx1SSC20mO5XL6uYD0mdcM_cL91fcIW5\"\n",
        "response = requests.get(results_url)\n",
        "count = 0\n",
        "if response.status_code == 200:\n",
        "    # Load the expected results from the downloaded JSON\n",
        "    expected_results = response.json()\n",
        "else:\n",
        "    print(\"Failed to download people_results.json.\")\n",
        "    expected_results = None\n",
        "\n",
        "# Step 2: Run the process_people() function to get your results\n",
        "people_url = \"https://drive.google.com/uc?export=download&id=1fLxJN9YGUqmqExrilxSS8furwUER5HHh\"\n",
        "my_results = process_people(people_url)\n",
        "\n",
        "# Step 3: Compare the results\n",
        "if expected_results is not None:\n",
        "    # Check if the lengths of the results match\n",
        "    if len(my_results) == len(expected_results):\n",
        "        print(f\"Both results have the same number of records: {len(my_results)}\")\n",
        "        # Initialize an empty list to store the converted entries\n",
        "        expected_list = []\n",
        "        result_list = []\n",
        "\n",
        "        # Iterate through the JSON data and extract the values\n",
        "        for key, values in expected_results.items():\n",
        "          # Looping through values to convert str to lower case if needed\n",
        "                for i in range(len(values)):\n",
        "                    if isinstance(values[i], str):\n",
        "                        values[i] = values[i].lower()\n",
        "                expected_list.append( [key] +values)\n",
        "        #print(expected_list)\n",
        "\n",
        "        for record in my_results:\n",
        "            for key, values in record.items():\n",
        "                # Looping through values to convert str to lower case if needed\n",
        "                for i in range(len(values)):\n",
        "                    if isinstance(values[i], str):\n",
        "                        values[i] = values[i].lower()\n",
        "            result_list.append([key] + values)\n",
        "        #print(result_list)\n",
        "\n",
        "       # Compare each patient's record\n",
        "        for i, (my_record, expected_record) in enumerate(zip(result_list, expected_list), start=1):\n",
        "            if my_record != expected_record:\n",
        "                print(f\"Difference found in patient {i}:\")\n",
        "                print(\"Your result: \", my_record)\n",
        "                print(\"Expected result: \", expected_record)\n",
        "            else:\n",
        "                #print(f\"Patient {my_record[0]} matches.\")\n",
        "                count += 1\n",
        "        print(f\"{count} patients matched\")\n",
        "\n",
        "\n",
        "    else:\n",
        "        print(f\"Results have different lengths: {len(my_results)} vs {len(expected_results)}\")\n",
        "\n",
        "else:\n",
        "    print(\"No expected results to compare against.\")\n"
      ]
    },
    {
      "cell_type": "markdown",
      "metadata": {
        "id": "TZKg-9Sz2vEH"
      },
      "source": [
        "---\n",
        "\n",
        "## Check your work above\n",
        "\n",
        "If you didn't get them all correct, take a few minutes to think through those that aren't correct.\n",
        "\n",
        "\n",
        "## Submitting Your Work\n",
        "\n",
        "Submit your work as usual into a folder named `midterm`"
      ]
    },
    {
      "cell_type": "markdown",
      "metadata": {
        "id": "PyR89sFT2vEH"
      },
      "source": [
        "---"
      ]
    }
  ],
  "metadata": {
    "kernelspec": {
      "display_name": "Python 3",
      "language": "python",
      "name": "python3"
    },
    "language_info": {
      "codemirror_mode": {
        "name": "ipython",
        "version": 3
      },
      "file_extension": ".py",
      "mimetype": "text/x-python",
      "name": "python",
      "nbconvert_exporter": "python",
      "pygments_lexer": "ipython3",
      "version": "3.9.6"
    },
    "colab": {
      "provenance": [],
      "include_colab_link": true
    }
  },
  "nbformat": 4,
  "nbformat_minor": 0
}