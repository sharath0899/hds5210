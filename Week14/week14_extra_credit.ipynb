{
  "cells": [
    {
      "cell_type": "markdown",
      "metadata": {
        "id": "RqXwonax4-RZ"
      },
      "source": [
        "# Week 14 Extra Credit - How will ChatGPT do on your final project idea?\n",
        "\n",
        "This extra credit assignment is entirely optional.  You do not need to do it.\n",
        "\n",
        "If you would like the opportunity to earn up to 5 extra credit points, complete this assignment and submit it via GitHub as normal before Monday, November 27 at 11:59 PM CST.  No late submissions will be accepted.  The file must be saved to your week13 folder in GitHub."
      ]
    },
    {
      "cell_type": "markdown",
      "metadata": {
        "id": "W4_bk4864-Rb"
      },
      "source": [
        "## Part 1: Have a conversation with ChatGPT\n",
        "\n",
        "I want you to have a conversation with ChatGPT about your final project idea.  Find out what it thinks about your idea and if it has any data sources (URLs for specific sites) that could be helpful.  Below, either include copy/paste the chat history from your conversation or include a link to the shared chat.  (ChatGPT has an [option to share a link to a specific conversation](https://help.openai.com/en/articles/7925741-chatgpt-shared-links-faq).  It's the up-arrow icon in the upper-right corner of your chat window.)\n",
        "\n",
        "Take this conversationw with ChatGPT as far as you want, but at least ask three or four follow-up questions to refine the information you're getting back.\n",
        "\n",
        "If it starts giving you links to information, don't assume they're going to work. Remember that ChatGPT isn't perfect. So, follow the links and make sure there's information there that matches what ChatGPT says you will find."
      ]
    },
    {
      "cell_type": "markdown",
      "metadata": {
        "id": "SxfeQVGB4-Rb"
      },
      "source": [
        "**RESPONSE**\n",
        "\n",
        "https://chatgpt.com/share/674d215d-6808-800e-a419-15138f42f8e0"
      ]
    },
    {
      "cell_type": "markdown",
      "metadata": {
        "id": "Ta0-XnOj4-Rb"
      },
      "source": [
        "### Part 2: Your reflection\n",
        "\n",
        "Below, tell me what you think ChatGPT did well or not well in your conversation.  Was it good at finding data that you needed?  Was it good at finding actual links that worked?  Did its responses make sense to you?  What did it do well / not well?\n",
        "\n",
        "Your response below should be several sentences.  If you don't have enough feedback, expand your conversation with ChatGPT.  Ask it refine your project idea or start writing code for you.  See what it can do."
      ]
    },
    {
      "cell_type": "markdown",
      "metadata": {
        "id": "IpU5hhyn4-Rc"
      },
      "source": [
        "**RESPONSE**\n",
        "\n",
        "ChatGPT performed well in helping me conceptualize and expand my project. It provided clear, logical, and well-structured suggestions for making my project more comprehensive. I appreciated its ability to outline different avenues, such as incorporating socioeconomic and environmental factors, using predictive modeling, and exploring policy implications. These ideas were relevant and actionable, giving me a clear direction for broadening the scope of my study.\n",
        "\n",
        "However, ChatGPT could improve by offering direct links to reliable datasets or resources. While it mentioned potential sources like WHO or CDC, having clickable, up-to-date links would have been more efficient. Its responses were well-organized and made sense, but integrating actionable steps or tools (e.g., code snippets for analysis) alongside suggestions could enhance the conversation. Overall, it excelled in brainstorming and project refinement but could have been more hands-on with implementation guidance."
      ]
    },
    {
      "cell_type": "markdown",
      "metadata": {
        "id": "BCYqzCmS4-Rc"
      },
      "source": [
        "### Submitting\n",
        "\n",
        "Submit this as normal to GitHub with the name `week14/week14_extra_credit.ipynb`"
      ]
    },
    {
      "cell_type": "markdown",
      "metadata": {
        "id": "3mkXa_AA4-Rc"
      },
      "source": []
    }
  ],
  "metadata": {
    "language_info": {
      "name": "python"
    },
    "colab": {
      "provenance": []
    }
  },
  "nbformat": 4,
  "nbformat_minor": 0
}